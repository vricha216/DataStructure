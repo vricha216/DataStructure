{
 "cells": [
  {
   "cell_type": "code",
   "execution_count": 4,
   "id": "5fdc8a26",
   "metadata": {},
   "outputs": [
    {
     "name": "stdout",
     "output_type": "stream",
     "text": [
      "1 2 3 4 -1\n",
      "1\n",
      "2\n",
      "3\n",
      "4\n"
     ]
    }
   ],
   "source": [
    "class Node:\n",
    "    def __init__(self,data):\n",
    "        self.data = data\n",
    "        self.next = None\n",
    "    \n",
    "# printlinklist  \n",
    "def printLinklist(head):\n",
    "    cur = head\n",
    "    print(cur.data)\n",
    "    while cur.next is not None:\n",
    "        cur = cur.next\n",
    "        print(cur.data)\n",
    "    \n",
    "\n",
    "#0+1+2+3+4+....+n-1\n",
    "#(n-1)*n/2\n",
    "#n**2\n",
    "#input linklist\n",
    "#for this o(1)\n",
    "def takeInput():\n",
    "    inplist = [int(i) for i in input().split()]\n",
    "    head = None\n",
    "    temp = head\n",
    "    for j in inplist:\n",
    "        if j == -1:\n",
    "            break       \n",
    "        n1 = Node(j)\n",
    "        if head is None:\n",
    "            head = n1\n",
    "            tail = head\n",
    "        else:\n",
    "            tail.next = n1\n",
    "            tail = n1\n",
    "#             while tail.next is not None:\n",
    "#                 temp = temp.next\n",
    "            \n",
    "    \n",
    "    return head\n",
    "\n",
    "head = takeInput()\n",
    "printLinklist(head)"
   ]
  },
  {
   "cell_type": "code",
   "execution_count": null,
   "id": "13cf0176",
   "metadata": {},
   "outputs": [],
   "source": []
  }
 ],
 "metadata": {
  "kernelspec": {
   "display_name": "Python 3",
   "language": "python",
   "name": "python3"
  },
  "language_info": {
   "codemirror_mode": {
    "name": "ipython",
    "version": 3
   },
   "file_extension": ".py",
   "mimetype": "text/x-python",
   "name": "python",
   "nbconvert_exporter": "python",
   "pygments_lexer": "ipython3",
   "version": "3.8.8"
  }
 },
 "nbformat": 4,
 "nbformat_minor": 5
}
